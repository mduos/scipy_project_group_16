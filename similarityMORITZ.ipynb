{
 "cells": [
  {
   "cell_type": "code",
   "execution_count": 17,
   "metadata": {},
   "outputs": [],
   "source": [
    "import pandas as pd\n",
    "import numpy as np\n",
    "\n",
    "# Load the dataset\n",
    "df = pd.read_csv('data/spotify_dataset.csv')\n",
    "\n",
    "# Preprocess the dataset\n",
    "# Performing a normalization on the tempo and energy values so that different scaling has no influence\n",
    "df['tempo'] = (df['tempo'] - df['tempo'].mean()) / df['tempo'].std()\n",
    "df['energy'] = (df['energy'] - df['energy'].mean()) / df['energy'].std()\n"
   ]
  },
  {
   "cell_type": "code",
   "execution_count": 18,
   "metadata": {},
   "outputs": [],
   "source": [
    "def calculate_similarity(song1, song2):\n",
    "    tempo_diff = song1['tempo'] - song2['tempo']\n",
    "    energy_diff = song1['energy'] - song2['energy']\n",
    "    genre_similarity = 1 if song1['genre'] == song2['genre'] else 0\n",
    "    \n",
    "    return np.sqrt(tempo_diff**2 + energy_diff**2 + (1-genre_similarity)**2)\n"
   ]
  },
  {
   "cell_type": "code",
   "execution_count": 19,
   "metadata": {},
   "outputs": [],
   "source": [
    "def find_similar_songs(song_name):\n",
    "    # Find the song from the dataset\n",
    "    song = df.loc[df['song'] == song_name].iloc[0]\n",
    "\n",
    "    # Calculate similarity with all other songs in the dataset\n",
    "    df['similarity'] = df.apply(lambda row: calculate_similarity(row, song), axis=1)\n",
    "\n",
    "    # Sort the dataset based on similarity\n",
    "    sorted_df = df.sort_values(by='similarity')\n",
    "\n",
    "    # Return the top 5 most similar songs\n",
    "    top_5_similar_songs = sorted_df.iloc[1:6]\n",
    "\n",
    "    return top_5_similar_songs[['song', 'artist', 'genre']]\n"
   ]
  },
  {
   "cell_type": "code",
   "execution_count": 20,
   "metadata": {},
   "outputs": [],
   "source": [
    "def similarity_search():\n",
    "    print(\"Welcome to Similarity Search:\\nInsert a song name in the input window, we will find you the five most similar songs to it.\\n\")\n",
    "    \n",
    "    while True:\n",
    "        # Get song name from user input\n",
    "        song_name = input(\"Enter the name of the song: \")\n",
    "        result = df[df['song'] == song_name]\n",
    "        if not result.empty:\n",
    "            break\n",
    "        else:\n",
    "            print(\"Your song is apparently not in the dataset. Try a valid song title.\\n\")\n",
    "\n",
    "    \n",
    "    result = find_similar_songs(song_name)\n",
    "    print(\"Your five most similar songs are:\\n{}\\n\\nHave fun listening!\".format(result))\n"
   ]
  },
  {
   "cell_type": "code",
   "execution_count": 21,
   "metadata": {},
   "outputs": [
    {
     "name": "stdout",
     "output_type": "stream",
     "text": [
      "Welcome to Similarity Search:\n",
      "Insert a song name in the input window, we will find you the five most similar songs to it.\n",
      "\n",
      "Your song is apparently not in the dataset. Try a valid song title.\n",
      "\n",
      "Your five most similar songs are:\n",
      "                            song         artist genre\n",
      "479              My Happy Ending  Avril Lavigne   pop\n",
      "12                    Freestyler   Bomfunk MC's   pop\n",
      "747                   Girlfriend  Avril Lavigne   pop\n",
      "86              It's Gonna Be Me         *NSYNC   pop\n",
      "1392  Here's to Never Growing Up  Avril Lavigne   pop\n",
      "\n",
      "Have fun listening!\n"
     ]
    }
   ],
   "source": [
    "similarity_search()\n"
   ]
  }
 ],
 "metadata": {
  "kernelspec": {
   "display_name": "scipy",
   "language": "python",
   "name": "python3"
  },
  "language_info": {
   "codemirror_mode": {
    "name": "ipython",
    "version": 3
   },
   "file_extension": ".py",
   "mimetype": "text/x-python",
   "name": "python",
   "nbconvert_exporter": "python",
   "pygments_lexer": "ipython3",
   "version": "3.11.3"
  },
  "orig_nbformat": 4
 },
 "nbformat": 4,
 "nbformat_minor": 2
}
