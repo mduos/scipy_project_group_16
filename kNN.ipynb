{
 "cells": [
  {
   "cell_type": "code",
   "execution_count": 1,
   "id": "6da6c582-59ca-493b-8fad-39d291b32116",
   "metadata": {},
   "outputs": [
    {
     "ename": "ModuleNotFoundError",
     "evalue": "No module named 'sklearn'",
     "output_type": "error",
     "traceback": [
      "\u001b[0;31m---------------------------------------------------------------------------\u001b[0m",
      "\u001b[0;31mModuleNotFoundError\u001b[0m                       Traceback (most recent call last)",
      "Cell \u001b[0;32mIn[1], line 4\u001b[0m\n\u001b[1;32m      2\u001b[0m \u001b[38;5;28;01mimport\u001b[39;00m \u001b[38;5;21;01mnumpy\u001b[39;00m \u001b[38;5;28;01mas\u001b[39;00m \u001b[38;5;21;01mnp\u001b[39;00m\n\u001b[1;32m      3\u001b[0m \u001b[38;5;28;01mimport\u001b[39;00m \u001b[38;5;21;01mpandas\u001b[39;00m \u001b[38;5;28;01mas\u001b[39;00m \u001b[38;5;21;01mpd\u001b[39;00m\n\u001b[0;32m----> 4\u001b[0m \u001b[38;5;28;01mfrom\u001b[39;00m \u001b[38;5;21;01msklearn\u001b[39;00m\u001b[38;5;21;01m.\u001b[39;00m\u001b[38;5;21;01mmetrics\u001b[39;00m\u001b[38;5;21;01m.\u001b[39;00m\u001b[38;5;21;01mpairwise\u001b[39;00m \u001b[38;5;28;01mimport\u001b[39;00m euclidean_distances\n\u001b[1;32m      6\u001b[0m \u001b[38;5;28;01mclass\u001b[39;00m \u001b[38;5;21;01mKNN\u001b[39;00m:\n\u001b[1;32m      7\u001b[0m     \u001b[38;5;28;01mdef\u001b[39;00m \u001b[38;5;21m__init__\u001b[39m(\u001b[38;5;28mself\u001b[39m, k\u001b[38;5;241m=\u001b[39m\u001b[38;5;241m5\u001b[39m):\n",
      "\u001b[0;31mModuleNotFoundError\u001b[0m: No module named 'sklearn'"
     ]
    }
   ],
   "source": [
    "#based on genre, tempo, danceability, emergy, valence\n",
    "import numpy as np\n",
    "import pandas as pd\n",
    "from sklearn.metrics.pairwise import euclidean_distances\n",
    "\n",
    "class KNN:\n",
    "    def __init__(self, k=5):\n",
    "        self.k = k\n",
    "\n",
    "    def fit(self, X, y):\n",
    "        self.X_train = X\n",
    "        self.y_train = y\n",
    "\n",
    "    def find_k_nearest_neighbors(self, x):\n",
    "        # Calculate distances from x to all points in the training set\n",
    "        distances = [self.euclidean_distance(x, x_train) for x_train in self.X_train]\n",
    "        \n",
    "        # Get the k nearest neighbors' indices\n",
    "        k_indices = np.argsort(distances)[:self.k]\n",
    "        \n",
    "        # Return the k nearest neighbors\n",
    "        k_nearest_neighbors = [self.X_train[i] for i in k_indices]\n",
    "        return k_nearest_neighbors\n",
    "\n",
    "# Example usage:\n",
    "if __name__ == \"__main__\":\n",
    "    #load data\n",
    "    df = pd.read_csv('songs_normalize.csv')\n",
    "    # Sample data (features and labels)\n",
    "    # features \n",
    "    features = ['popularity', 'danceability', 'energy', 'speechiness', 'acousticness',\n",
    "                'instrumentalness', 'liveness', 'valence', 'tempo']\n",
    "    X_train = df[features].values\n",
    "    # label is == song df[song]\n",
    "    y_train = df['song']\n",
    "    \n",
    "\n",
    "    # Create the k-NN classifier with k=3\n",
    "    knn = KNN(k=5)\n",
    "\n",
    "    # Train the model\n",
    "    knn.fit(X_train, y_train)\n",
    "\n",
    "    # Test data\n",
    "    X_test = np.array([[3, 3], [1, 1], [4, 4]])\n",
    "\n",
    "    # Find the k nearest neighbors for the test data\n",
    "    for x in X_test:\n",
    "        k_nearest_neighbors = knn.find_k_nearest_neighbors(x)\n",
    "        print(f\"Data point {x}:\")\n",
    "        for neighbor in k_nearest_neighbors:\n",
    "            print(f\" - Neighbor: {neighbor}\")\n"
   ]
  },
  {
   "cell_type": "code",
   "execution_count": null,
   "id": "519322b3-fc54-40c6-83d5-273d13863531",
   "metadata": {},
   "outputs": [],
   "source": []
  },
  {
   "cell_type": "code",
   "execution_count": null,
   "id": "acd640db-c3af-41f5-9617-847eacb0cdcb",
   "metadata": {},
   "outputs": [],
   "source": []
  }
 ],
 "metadata": {
  "kernelspec": {
   "display_name": "Python 3 (ipykernel)",
   "language": "python",
   "name": "python3"
  },
  "language_info": {
   "codemirror_mode": {
    "name": "ipython",
    "version": 3
   },
   "file_extension": ".py",
   "mimetype": "text/x-python",
   "name": "python",
   "nbconvert_exporter": "python",
   "pygments_lexer": "ipython3",
   "version": "3.9.7"
  }
 },
 "nbformat": 4,
 "nbformat_minor": 5
}
