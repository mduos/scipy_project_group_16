{
 "cells": [
  {
   "cell_type": "code",
   "execution_count": 71,
   "metadata": {},
   "outputs": [],
   "source": [
    "import pandas as pd\n",
    "import numpy as np\n",
    "\n",
    "# Load the dataset\n",
    "df = pd.read_csv('data/spotify_dataset.csv')\n",
    "\n",
    "# Preprocess the dataset\n",
    "# Performing a normalization on the tempo and energy values so that different scaling has no influence\n",
    "df['tempo'] = (df['tempo'] - df['tempo'].mean()) / df['tempo'].std()\n",
    "df['energy'] = (df['energy'] - df['energy'].mean()) / df['energy'].std()\n"
   ]
  },
  {
   "cell_type": "code",
   "execution_count": 72,
   "metadata": {},
   "outputs": [],
   "source": [
    "def calculate_similarity(song1, song2):\n",
    "    tempo_diff = song1['tempo'] - song2['tempo']\n",
    "    energy_diff = song1['energy'] - song2['energy']\n",
    "    genre_similarity = 1 if song1['genre'] == song2['genre'] else 0\n",
    "    \n",
    "    return np.sqrt(tempo_diff**2 + energy_diff**2 + (1-genre_similarity)**2)\n"
   ]
  },
  {
   "cell_type": "code",
   "execution_count": 73,
   "metadata": {},
   "outputs": [],
   "source": [
    "def find_similar_songs(song_name, family_friendly=True):\n",
    "    # Find the song from the dataset\n",
    "    song = df.loc[df['song'] == song_name].iloc[0]\n",
    "\n",
    "    # Filter songs based on family-friendliness\n",
    "    if family_friendly:\n",
    "        filtered_df = df.loc[df['explicit'] == False]\n",
    "    else:\n",
    "        filtered_df = df.copy()\n",
    "\n",
    "    # Calculate similarity with all other songs in the filtered dataset\n",
    "    filtered_df.loc[:, 'similarity'] = filtered_df.apply(lambda row: calculate_similarity(row, song), axis=1)\n",
    "\n",
    "    # Sort the filtered dataset based on similarity\n",
    "    sorted_df = filtered_df.sort_values(by='similarity')\n",
    "\n",
    "    # Return the top 5 most similar songs\n",
    "    top_5_similar_songs = sorted_df.iloc[1:6]\n",
    "\n",
    "    return top_5_similar_songs[['song', 'artist', 'genre']]\n"
   ]
  },
  {
   "cell_type": "code",
   "execution_count": 74,
   "metadata": {},
   "outputs": [],
   "source": [
    "def similarity_search():\n",
    "    print(\"Welcome to Similarity Search:\\nInsert a song name in the input window, we will find you the five most similar songs to it.\\n\")\n",
    "    \n",
    "\n",
    "    while True:\n",
    "        # Ask user if they want family-friendly songs\n",
    "        family_friendly_input = input(\"Do you want family-friendly songs? (y/n): \").lower()\n",
    "        # Check for a valid input, if not valid print message\n",
    "        if family_friendly_input in ['y', 'n']:\n",
    "            family_friendly = family_friendly_input == 'y'\n",
    "            break\n",
    "        else:\n",
    "            print(\"Invalid input. Please enter 'y' or 'n'.\")\n",
    "\n",
    "    # Get song name from user input til a valid input\n",
    "    while True:\n",
    "        song_name = input(\"Enter the name of the song: \")\n",
    "        # Find the song in the dataset\n",
    "        result = df[df['song'] == song_name]\n",
    "        # If song is not found print message\n",
    "        if not result.empty:\n",
    "            break\n",
    "        else:\n",
    "            print(\"Your song is apparently not in the dataset. Try a valid song title.\\n\")\n",
    "\n",
    "    # Start similarity search with the users input choices\n",
    "    result = find_similar_songs(song_name, family_friendly)\n",
    "    print(\"The five most similar songs to >{}< are:\\n\\n{}\\n\\nHave fun listening!\".format(song_name, result))\n"
   ]
  },
  {
   "cell_type": "code",
   "execution_count": 75,
   "metadata": {},
   "outputs": [
    {
     "name": "stdout",
     "output_type": "stream",
     "text": [
      "Welcome to Similarity Search:\n",
      "Insert a song name in the input window, we will find you the five most similar songs to it.\n",
      "\n",
      "The five most similar songs to >The Real Slim Shady< are:\n",
      "\n",
      "                               song           artist                  genre\n",
      "912                       Heartless       Kanye West                hip hop\n",
      "1999                        Circles      Post Malone                hip hop\n",
      "461                     Take Me Out  Franz Ferdinand                   rock\n",
      "171   It's the Way You Make Me Feel            Steps  pop, Dance/Electronic\n",
      "700                   Bleeding Love      Leona Lewis               pop, R&B\n",
      "\n",
      "Have fun listening!\n"
     ]
    },
    {
     "name": "stderr",
     "output_type": "stream",
     "text": [
      "/var/folders/xn/p26v9yc56vxgql50hn5mfjgh0000gn/T/ipykernel_97896/453938064.py:12: SettingWithCopyWarning: \n",
      "A value is trying to be set on a copy of a slice from a DataFrame.\n",
      "Try using .loc[row_indexer,col_indexer] = value instead\n",
      "\n",
      "See the caveats in the documentation: https://pandas.pydata.org/pandas-docs/stable/user_guide/indexing.html#returning-a-view-versus-a-copy\n",
      "  filtered_df.loc[:, 'similarity'] = filtered_df.apply(lambda row: calculate_similarity(row, song), axis=1)\n"
     ]
    }
   ],
   "source": [
    "similarity_search()\n"
   ]
  }
 ],
 "metadata": {
  "kernelspec": {
   "display_name": "scipy",
   "language": "python",
   "name": "python3"
  },
  "language_info": {
   "codemirror_mode": {
    "name": "ipython",
    "version": 3
   },
   "file_extension": ".py",
   "mimetype": "text/x-python",
   "name": "python",
   "nbconvert_exporter": "python",
   "pygments_lexer": "ipython3",
   "version": "3.11.3"
  },
  "orig_nbformat": 4
 },
 "nbformat": 4,
 "nbformat_minor": 2
}
